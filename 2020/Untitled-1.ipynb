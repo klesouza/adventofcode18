{
 "cells": [
  {
   "cell_type": "code",
   "execution_count": 1,
   "metadata": {},
   "source": [
    "#!fsharp\n",
    "let readLines = sprintf \"./inputs/%s.txt\" >> System.IO.File.ReadLines"
   ],
   "outputs": []
  },
  {
   "cell_type": "code",
   "execution_count": 1,
   "metadata": {},
   "source": [
    "#!fsharp\n",
    "#load \"day01.fsx\"\n",
    "open Day01\n",
    "\n",
    "[ \n",
    "\"1721\"\n",
    "\"979\"\n",
    "\"366\"\n",
    "\"299\"\n",
    "\"675\"\n",
    "\"1456\" ]\n",
    "|> day01p2\n",
    "|> printfn \"%i\""
   ],
   "outputs": [
    {
     "output_type": "execute_result",
     "data": {
      "text/plain": "241861950"
     },
     "execution_count": 1,
     "metadata": {}
    },
    {
     "output_type": "execute_result",
     "data": {
      "text/plain": "\r\n"
     },
     "execution_count": 1,
     "metadata": {}
    }
   ]
  },
  {
   "cell_type": "code",
   "execution_count": 1,
   "metadata": {},
   "source": [
    "#!fsharp\n",
    "readLines \"01\"\n",
    "|> day01p2\n",
    "|> printfn \"%i\""
   ],
   "outputs": [
    {
     "output_type": "execute_result",
     "data": {
      "text/plain": "29212176"
     },
     "execution_count": 1,
     "metadata": {}
    },
    {
     "output_type": "execute_result",
     "data": {
      "text/plain": "\r\n"
     },
     "execution_count": 1,
     "metadata": {}
    }
   ]
  },
  {
   "cell_type": "code",
   "execution_count": 1,
   "metadata": {},
   "source": [
    "#!fsharp\n",
    "#load \"day02.fsx\"\n",
    "open Day02\n",
    "\n",
    "let testData = [\n",
    "    \"1-3 a: abcde\"\n",
    "    \"1-3 b: cdefg\"\n",
    "    \"2-9 c: ccccccccc\"\n",
    "]\n",
    "\n",
    "testData\n",
    "|> day02\n",
    "|> printfn \"%d\"\n",
    "\n",
    "testData\n",
    "|> day02p2\n",
    "|> printfn \"%d\""
   ],
   "outputs": [
    {
     "output_type": "execute_result",
     "data": {
      "text/plain": "2"
     },
     "execution_count": 1,
     "metadata": {}
    },
    {
     "output_type": "execute_result",
     "data": {
      "text/plain": "\r\n"
     },
     "execution_count": 1,
     "metadata": {}
    },
    {
     "output_type": "execute_result",
     "data": {
      "text/plain": "1"
     },
     "execution_count": 1,
     "metadata": {}
    },
    {
     "output_type": "execute_result",
     "data": {
      "text/plain": "\r\n"
     },
     "execution_count": 1,
     "metadata": {}
    }
   ]
  },
  {
   "cell_type": "code",
   "execution_count": 1,
   "metadata": {},
   "source": [
    "#!fsharp\n",
    "readLines \"02\"\n",
    "|> day02\n",
    "|> printfn \"%d\"\n",
    "\n",
    "readLines \"02\"\n",
    "|> day02p2\n",
    "|> printfn \"%d\""
   ],
   "outputs": [
    {
     "output_type": "execute_result",
     "data": {
      "text/plain": "636"
     },
     "execution_count": 1,
     "metadata": {}
    },
    {
     "output_type": "execute_result",
     "data": {
      "text/plain": "\r\n"
     },
     "execution_count": 1,
     "metadata": {}
    },
    {
     "output_type": "execute_result",
     "data": {
      "text/plain": "588"
     },
     "execution_count": 1,
     "metadata": {}
    },
    {
     "output_type": "execute_result",
     "data": {
      "text/plain": "\r\n"
     },
     "execution_count": 1,
     "metadata": {}
    }
   ]
  },
  {
   "cell_type": "code",
   "execution_count": 1,
   "metadata": {},
   "source": [
    "#!fsharp\n",
    "#load \"day03.fsx\"\n",
    "open Day03\n",
    "\n",
    "let testData03 = [\n",
    "    \"..##.......\"\n",
    "    \"#...#...#..\"\n",
    "    \".#....#..#.\"\n",
    "    \"..#.#...#.#\"\n",
    "    \".#...##..#.\"\n",
    "    \"..#.##.....\"\n",
    "    \".#.#.#....#\"\n",
    "    \".#........#\"\n",
    "    \"#.##...#...\"\n",
    "    \"#...##....#\"\n",
    "    \".#..#...#.#\"\n",
    "]\n",
    "\n",
    "readLines \"03\"\n",
    "// testData03\n",
    "|> day03\n",
    "|> printfn \"%d\"\n",
    "\n",
    "readLines \"03\"\n",
    "// testData03\n",
    "|> day03p2\n",
    "// |> printfn \"%d\""
   ],
   "outputs": [
    {
     "output_type": "execute_result",
     "data": {
      "text/plain": "232"
     },
     "execution_count": 1,
     "metadata": {}
    },
    {
     "output_type": "execute_result",
     "data": {
      "text/plain": "\r\n"
     },
     "execution_count": 1,
     "metadata": {}
    },
    {
     "output_type": "execute_result",
     "data": {
      "text/html": "<div class=\"dni-plaintext\">3952291680</div>"
     },
     "execution_count": 1,
     "metadata": {}
    }
   ]
  },
  {
   "cell_type": "code",
   "execution_count": 1,
   "metadata": {},
   "source": [
    "#!fsharp\n",
    "#load \"day04.fsx\"\n",
    "open Day04\n",
    "\n",
    "let testData04 = \"ecl:gry pid:860033327 eyr:2020 hcl:#fffffd\\n\\\n",
    "                  byr:1937 iyr:2017 hgt:183cm\\n\\\n",
    "                  cid:147\\n\\\n",
    "                  \\n\\\n",
    "                  iyr:2013 ecl:amb cid:350 eyr:2023 pid:028048884\\n\\\n",
    "                  hcl:#cfa07d byr:1929\\n\\\n",
    "                  \\n\\\n",
    "                  hcl:#ae17e1 iyr:2013\\n\\\n",
    "                  cid:12\\n\\\n",
    "                  eyr:2024\\n\\\n",
    "                  ecl:brn pid:760753108 byr:1931\\n\\\n",
    "                  hgt:179cm\\n\\\n",
    "                  \\n\\\n",
    "                  hcl:#cfa07d eyr:2025 pid:166559648\\n\\\n",
    "                  iyr:2011 ecl:brn hgt:59in\"\n",
    "\n",
    "// testData04.Split '\\n'\n",
    "readLines \"04\"\n",
    "|> (day04 false)\n",
    "|> printfn \"%A\"\n",
    "\n",
    "//part2\n",
    "// testData04.Split '\\n'\n",
    "readLines \"04\"\n",
    "|> (day04 true)\n",
    "|> printfn \"%A\""
   ],
   "outputs": [
    {
     "output_type": "execute_result",
     "data": {
      "text/plain": "219"
     },
     "execution_count": 1,
     "metadata": {}
    },
    {
     "output_type": "execute_result",
     "data": {
      "text/plain": "\r\n"
     },
     "execution_count": 1,
     "metadata": {}
    },
    {
     "output_type": "execute_result",
     "data": {
      "text/plain": "127"
     },
     "execution_count": 1,
     "metadata": {}
    },
    {
     "output_type": "execute_result",
     "data": {
      "text/plain": "\r\n"
     },
     "execution_count": 1,
     "metadata": {}
    }
   ]
  },
  {
   "cell_type": "code",
   "execution_count": 1,
   "metadata": {},
   "source": [
    "#!fsharp\n",
    "let mapSet (t: string) = \n",
    "    ((t.Split ' ' ) |> Array.map (fun x -> (x.Split ':').[0]) |> Set.ofArray)\n",
    "\n",
    "readLines \"04\"\n",
    "|> Seq.scan (fun s t -> \n",
    "        match t.Length with\n",
    "            | 0 -> Set.empty<string> \n",
    "            | _ -> Set.union s (mapSet t)\n",
    "    ) Set.empty<string>\n",
    "|> Seq.indexed\n",
    "|> Seq.filter (fun (i, x) -> not (Set.isEmpty x))\n",
    "|> Seq.filter (fun (i, x) ->  (Set.isEmpty (Set.difference mandatoryItemsSet x)))\n",
    "|> Seq.map (sprintf \"%A\")\n",
    "// |> (fun x -> File.WriteAllLines(\"t.txt\", x))"
   ],
   "outputs": []
  },
  {
   "cell_type": "code",
   "execution_count": 1,
   "metadata": {},
   "source": [
    "#!fsharp\n",
    "#load \"day05.fsx\"\n",
    "open Day05\n",
    "\n",
    "let testData05 = [\n",
    "    \"FBFBBFFRLR\"\n",
    "    \"BFFFBBFRRR\"\n",
    "    \"FFFBBBFRRR\"\n",
    "    \"BBFFBBFRLL\"\n",
    "]\n",
    "\n",
    "// testData05\n",
    "readLines \"05\"\n",
    "|> day05"
   ],
   "outputs": [
    {
     "output_type": "execute_result",
     "data": {
      "text/html": "<div class=\"dni-plaintext\">904</div>"
     },
     "execution_count": 1,
     "metadata": {}
    }
   ]
  },
  {
   "cell_type": "code",
   "execution_count": 1,
   "metadata": {},
   "source": [
    "#!fsharp\n",
    "readLines \"05\"\n",
    "|> rowId\n",
    "|> Seq.sort\n",
    "|> Seq.map (sprintf \"%d\")\n",
    "|> (fun x -> File.WriteAllLines(\"t.txt\", x))"
   ],
   "outputs": []
  },
  {
   "cell_type": "code",
   "execution_count": 1,
   "metadata": {},
   "source": [
    "#!fsharp\n",
    "127/2"
   ],
   "outputs": [
    {
     "output_type": "execute_result",
     "data": {
      "text/html": "<div class=\"dni-plaintext\">63</div>"
     },
     "execution_count": 1,
     "metadata": {}
    }
   ]
  },
  {
   "cell_type": "code",
   "execution_count": 1,
   "metadata": {},
   "source": [
    "#!fsharp\n",
    "#load \"day06.fsx\"\n",
    "open Day06\n",
    "\n",
    "let testData06 = [\n",
    "    \"abc\"\n",
    "    \"\"\n",
    "    \"a\"\n",
    "    \"b\"\n",
    "    \"c\"\n",
    "    \"\"\n",
    "    \"ab\"\n",
    "    \"ac\"\n",
    "    \"\"\n",
    "    \"a\"\n",
    "    \"a\"\n",
    "    \"a\"\n",
    "    \"a\"\n",
    "    \"\"\n",
    "    \"b\"\n",
    "]\n",
    "\n",
    "// testData06\n",
    "readLines \"06\"\n",
    "|> day06\n",
    "|> printf \"%A\""
   ],
   "outputs": [
    {
     "output_type": "execute_result",
     "data": {
      "text/plain": "6504"
     },
     "execution_count": 1,
     "metadata": {}
    }
   ]
  },
  {
   "cell_type": "code",
   "execution_count": 1,
   "metadata": {},
   "source": [
    "#!fsharp\n",
    ""
   ],
   "outputs": []
  }
 ],
 "metadata": {
  "kernelspec": {
   "display_name": ".NET (C#)",
   "language": "C#",
   "name": ".net-csharp"
  },
  "language_info": {
   "file_extension": ".cs",
   "mimetype": "text/x-csharp",
   "name": "C#",
   "pygments_lexer": "csharp",
   "version": "8.0"
  }
 },
 "nbformat": 4,
 "nbformat_minor": 4
}