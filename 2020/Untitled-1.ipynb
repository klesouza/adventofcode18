{
 "cells": [
  {
   "cell_type": "code",
   "execution_count": 1,
   "metadata": {},
   "source": [
    "#!fsharp\n",
    "let readLines = sprintf \"./inputs/%s.txt\" >> System.IO.File.ReadLines"
   ],
   "outputs": []
  },
  {
   "cell_type": "code",
   "execution_count": 1,
   "metadata": {},
   "source": [
    "#!fsharp\n",
    "#load \"day01.fsx\"\n",
    "open Day01\n",
    "\n",
    "[ \n",
    "\"1721\"\n",
    "\"979\"\n",
    "\"366\"\n",
    "\"299\"\n",
    "\"675\"\n",
    "\"1456\" ]\n",
    "|> day01p2\n",
    "|> printfn \"%i\""
   ],
   "outputs": [
    {
     "output_type": "execute_result",
     "data": {
      "text/plain": "241861950"
     },
     "execution_count": 1,
     "metadata": {}
    },
    {
     "output_type": "execute_result",
     "data": {
      "text/plain": "\r\n"
     },
     "execution_count": 1,
     "metadata": {}
    }
   ]
  },
  {
   "cell_type": "code",
   "execution_count": 1,
   "metadata": {},
   "source": [
    "#!fsharp\n",
    "readLines \"01\"\n",
    "|> day01p2\n",
    "|> printfn \"%i\""
   ],
   "outputs": [
    {
     "output_type": "execute_result",
     "data": {
      "text/plain": "29212176"
     },
     "execution_count": 1,
     "metadata": {}
    },
    {
     "output_type": "execute_result",
     "data": {
      "text/plain": "\r\n"
     },
     "execution_count": 1,
     "metadata": {}
    }
   ]
  },
  {
   "cell_type": "code",
   "execution_count": 1,
   "metadata": {},
   "source": [
    "#!fsharp\n",
    "#load \"day02.fsx\"\n",
    "open Day02\n",
    "\n",
    "let testData = [\n",
    "    \"1-3 a: abcde\"\n",
    "    \"1-3 b: cdefg\"\n",
    "    \"2-9 c: ccccccccc\"\n",
    "]\n",
    "\n",
    "testData\n",
    "|> day02\n",
    "|> printfn \"%d\"\n",
    "\n",
    "testData\n",
    "|> day02p2\n",
    "|> printfn \"%d\""
   ],
   "outputs": [
    {
     "output_type": "execute_result",
     "data": {
      "text/plain": "2"
     },
     "execution_count": 1,
     "metadata": {}
    },
    {
     "output_type": "execute_result",
     "data": {
      "text/plain": "\r\n"
     },
     "execution_count": 1,
     "metadata": {}
    },
    {
     "output_type": "execute_result",
     "data": {
      "text/plain": "1"
     },
     "execution_count": 1,
     "metadata": {}
    },
    {
     "output_type": "execute_result",
     "data": {
      "text/plain": "\r\n"
     },
     "execution_count": 1,
     "metadata": {}
    }
   ]
  },
  {
   "cell_type": "code",
   "execution_count": 1,
   "metadata": {},
   "source": [
    "#!fsharp\n",
    "readLines \"02\"\n",
    "|> day02\n",
    "|> printfn \"%d\"\n",
    "\n",
    "readLines \"02\"\n",
    "|> day02p2\n",
    "|> printfn \"%d\""
   ],
   "outputs": [
    {
     "output_type": "execute_result",
     "data": {
      "text/plain": "636"
     },
     "execution_count": 1,
     "metadata": {}
    },
    {
     "output_type": "execute_result",
     "data": {
      "text/plain": "\r\n"
     },
     "execution_count": 1,
     "metadata": {}
    },
    {
     "output_type": "execute_result",
     "data": {
      "text/plain": "588"
     },
     "execution_count": 1,
     "metadata": {}
    },
    {
     "output_type": "execute_result",
     "data": {
      "text/plain": "\r\n"
     },
     "execution_count": 1,
     "metadata": {}
    }
   ]
  },
  {
   "cell_type": "code",
   "execution_count": 1,
   "metadata": {},
   "source": [
    "#!fsharp\n",
    "#load \"day03.fsx\"\n",
    "open Day03\n",
    "\n",
    "let testData03 = [\n",
    "    \"..##.......\"\n",
    "    \"#...#...#..\"\n",
    "    \".#....#..#.\"\n",
    "    \"..#.#...#.#\"\n",
    "    \".#...##..#.\"\n",
    "    \"..#.##.....\"\n",
    "    \".#.#.#....#\"\n",
    "    \".#........#\"\n",
    "    \"#.##...#...\"\n",
    "    \"#...##....#\"\n",
    "    \".#..#...#.#\"\n",
    "]\n",
    "\n",
    "readLines \"03\"\n",
    "// testData03\n",
    "|> day03\n",
    "|> printfn \"%d\"\n",
    "\n",
    "readLines \"03\"\n",
    "// testData03\n",
    "|> day03p2\n",
    "// |> printfn \"%d\""
   ],
   "outputs": [
    {
     "output_type": "execute_result",
     "data": {
      "text/plain": "232"
     },
     "execution_count": 1,
     "metadata": {}
    },
    {
     "output_type": "execute_result",
     "data": {
      "text/plain": "\r\n"
     },
     "execution_count": 1,
     "metadata": {}
    },
    {
     "output_type": "execute_result",
     "data": {
      "text/html": "<div class=\"dni-plaintext\">3952291680</div>"
     },
     "execution_count": 1,
     "metadata": {}
    }
   ]
  },
  {
   "cell_type": "code",
   "execution_count": 1,
   "metadata": {},
   "source": [
    "#!fsharp\n",
    ""
   ],
   "outputs": []
  }
 ],
 "metadata": {
  "kernelspec": {
   "display_name": ".NET (C#)",
   "language": "C#",
   "name": ".net-csharp"
  },
  "language_info": {
   "file_extension": ".cs",
   "mimetype": "text/x-csharp",
   "name": "C#",
   "pygments_lexer": "csharp",
   "version": "8.0"
  }
 },
 "nbformat": 4,
 "nbformat_minor": 4
}