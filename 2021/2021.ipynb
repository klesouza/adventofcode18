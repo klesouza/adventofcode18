{
 "cells": [
  {
   "cell_type": "code",
   "execution_count": 16,
   "metadata": {},
   "outputs": [],
   "source": [
    "def read_file(day, ex=1):\n",
    "    with open(f\"inputs/day{day}-{ex}.txt\", \"r\") as f:\n",
    "        return f.readlines()"
   ]
  },
  {
   "cell_type": "code",
   "execution_count": 17,
   "metadata": {},
   "outputs": [
    {
     "name": "stdout",
     "output_type": "stream",
     "text": [
      "1466\n"
     ]
    }
   ],
   "source": [
    "day=1\n",
    "ex=1\n",
    "\n",
    "last_number = None\n",
    "increases = 0\n",
    "for number in read_file(day, ex):\n",
    "    if last_number and int(number) > last_number:\n",
    "        increases += 1\n",
    "    last_number = int(number)\n",
    "print(increases)"
   ]
  },
  {
   "cell_type": "code",
   "execution_count": 18,
   "metadata": {},
   "outputs": [
    {
     "name": "stdout",
     "output_type": "stream",
     "text": [
      "1491\n"
     ]
    }
   ],
   "source": [
    "day=1\n",
    "ex=2\n",
    "\n",
    "window = [0, 0, 0]\n",
    "increases = 0\n",
    "for i, number in enumerate(read_file(day, 1)): # same input as 1\n",
    "    \n",
    "    if i >= 3 and int(number) > window[i % 3]:\n",
    "        increases += 1\n",
    "    window[i % 3] = int(number)\n",
    "print(increases)"
   ]
  },
  {
   "cell_type": "code",
   "execution_count": 19,
   "metadata": {},
   "outputs": [
    {
     "name": "stdout",
     "output_type": "stream",
     "text": [
      "1499229\n"
     ]
    }
   ],
   "source": [
    "day=2\n",
    "ex=1\n",
    "from operator import add, mul\n",
    "from functools import reduce, partial\n",
    "\n",
    "def parse_command(cmd: str):\n",
    "    axis, unit = cmd.split()\n",
    "    ax = {\n",
    "        'forward': [0, 1, ],\n",
    "        'up': [-1, 0], \n",
    "        'down': [1, 0]\n",
    "    }\n",
    "\n",
    "    return list(map(mul, ax[axis], [int(unit)]*2))\n",
    "\n",
    "pos = list(reduce( partial(map, add), map(parse_command, read_file(day, ex)), [0,0]))\n",
    "print(mul(*pos))\n"
   ]
  },
  {
   "cell_type": "code",
   "execution_count": 20,
   "metadata": {},
   "outputs": [
    {
     "name": "stdout",
     "output_type": "stream",
     "text": [
      "1340836560\n"
     ]
    }
   ],
   "source": [
    "day=2\n",
    "ex=2\n",
    "\n",
    "def parse_command_2(cmd: str):\n",
    "    axis, unit = cmd.split()\n",
    "    un = int(unit)\n",
    "    ax = {\n",
    "        'forward': [0, 1, 0],\n",
    "        'up': [0, 0, -1], \n",
    "        'down': [0, 0, 1]\n",
    "    }\n",
    "\n",
    "    return list(map(mul, ax[axis], [int(unit)]*3))\n",
    "\n",
    "def red(a, b):\n",
    "    return [a[0]+a[2]*b[1], a[1]+b[1], a[2]+b[2]]\n",
    "\n",
    "pos = list(reduce(red, map(parse_command_2, read_file(day, 1)), [0,0,0]))\n",
    "print(pos[0]*pos[1])\n"
   ]
  },
  {
   "cell_type": "code",
   "execution_count": 21,
   "metadata": {},
   "outputs": [
    {
     "name": "stdout",
     "output_type": "stream",
     "text": [
      "Requirement already satisfied: bitarray in /Users/w1ukxd2/.venv/aoc/lib/python3.8/site-packages (2.3.4)\n",
      "\u001b[33mWARNING: You are using pip version 21.1.1; however, version 21.3.1 is available.\n",
      "You should consider upgrading via the '/Users/w1ukxd2/.venv/aoc/bin/python -m pip install --upgrade pip' command.\u001b[0m\n"
     ]
    }
   ],
   "source": [
    "!pip install bitarray"
   ]
  },
  {
   "cell_type": "code",
   "execution_count": 41,
   "metadata": {},
   "outputs": [
    {
     "name": "stdout",
     "output_type": "stream",
     "text": [
      "2967914\n"
     ]
    }
   ],
   "source": [
    "day=3\n",
    "ex=1\n",
    "\n",
    "from bitarray import bitarray, util\n",
    "count = 0\n",
    "sum_a = []\n",
    "for line in read_file(3, 1):\n",
    "    count += 1\n",
    "    line = line.replace('\\n', '')\n",
    "    if not sum_a:\n",
    "        n = len(line)\n",
    "        sum_a = [0]*n\n",
    "    sum_a = list(map(add, sum_a, map(int, line)))\n",
    "\n",
    "\n",
    "bits = list(map(lambda x: x > (count / 2), sum_a))\n",
    "gamma = util.ba2int(bitarray(bits))\n",
    "eps = util.ba2int(~bitarray(bits))\n",
    "\n",
    "print(gamma*eps)\n",
    "\n"
   ]
  },
  {
   "cell_type": "code",
   "execution_count": 50,
   "metadata": {},
   "outputs": [
    {
     "name": "stdout",
     "output_type": "stream",
     "text": [
      "7041258\n"
     ]
    }
   ],
   "source": [
    "day=3\n",
    "ex=2\n",
    "\n",
    "f_tree = {'0': [], '1': []}\n",
    "for line in read_file(3, 1):\n",
    "    f_tree[line[0]].append(line.replace('\\n', ''))\n",
    "\n",
    "\n",
    "def calculate_o2(arr, i, most):\n",
    "    tree = {'0': [], '1': []}\n",
    "    if len(arr) == 1:\n",
    "        return util.ba2int(bitarray(arr[0]))\n",
    "\n",
    "    for line in arr:\n",
    "        tree[line[i]].append(line.replace('\\n', ''))\n",
    "\n",
    "    sor = sorted(tree.values(), key=len)\n",
    "    return calculate_o2(sor[most], i+1, most)\n",
    "\n",
    "sor = sorted(f_tree.values(), key=len)\n",
    "o2 = calculate_o2(sor[-1], 1, -1)\n",
    "co2 = calculate_o2(sor[0], 1, 0)\n",
    "\n",
    "print(o2*co2)\n",
    "    "
   ]
  }
 ],
 "metadata": {
  "interpreter": {
   "hash": "7c1477b001b5ca96b4f289848a5cb54a92bc86e96dfe901970dd3607e197804f"
  },
  "kernelspec": {
   "display_name": "Python 3.8.10 64-bit ('3.8.10': pyenv)",
   "language": "python",
   "name": "python3"
  },
  "language_info": {
   "codemirror_mode": {
    "name": "ipython",
    "version": 3
   },
   "file_extension": ".py",
   "mimetype": "text/x-python",
   "name": "python",
   "nbconvert_exporter": "python",
   "pygments_lexer": "ipython3",
   "version": "3.8.10"
  },
  "orig_nbformat": 4
 },
 "nbformat": 4,
 "nbformat_minor": 2
}
