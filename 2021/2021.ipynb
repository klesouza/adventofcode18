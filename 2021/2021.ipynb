{
 "cells": [
  {
   "cell_type": "code",
   "execution_count": 1,
   "metadata": {},
   "outputs": [],
   "source": [
    "def read_file(day, ex=1):\n",
    "    with open(f\"inputs/day{day}-{ex}.txt\", \"r\") as f:\n",
    "        return f.readlines()"
   ]
  },
  {
   "cell_type": "code",
   "execution_count": 2,
   "metadata": {},
   "outputs": [
    {
     "name": "stdout",
     "output_type": "stream",
     "text": [
      "1466\n"
     ]
    }
   ],
   "source": [
    "day=1\n",
    "ex=1\n",
    "\n",
    "last_number = None\n",
    "increases = 0\n",
    "for number in read_file(day, ex):\n",
    "    if last_number and int(number) > last_number:\n",
    "        increases += 1\n",
    "    last_number = int(number)\n",
    "print(increases)"
   ]
  },
  {
   "cell_type": "code",
   "execution_count": 5,
   "metadata": {},
   "outputs": [
    {
     "name": "stdout",
     "output_type": "stream",
     "text": [
      "5\n"
     ]
    }
   ],
   "source": [
    "day=1\n",
    "ex=2\n",
    "\n",
    "window = [0, 0, 0]\n",
    "increases = 0\n",
    "for i, number in enumerate(read_file(day, 1)): # same input as 1\n",
    "    \n",
    "    if i >= 3 and int(number) > window[i % 3]:\n",
    "        increases += 1\n",
    "    window[i % 3] = int(number)\n",
    "print(increases)"
   ]
  },
  {
   "cell_type": "code",
   "execution_count": null,
   "metadata": {},
   "outputs": [],
   "source": []
  }
 ],
 "metadata": {
  "interpreter": {
   "hash": "7c1477b001b5ca96b4f289848a5cb54a92bc86e96dfe901970dd3607e197804f"
  },
  "kernelspec": {
   "display_name": "Python 3.8.10 64-bit ('3.8.10': pyenv)",
   "language": "python",
   "name": "python3"
  },
  "language_info": {
   "codemirror_mode": {
    "name": "ipython",
    "version": 3
   },
   "file_extension": ".py",
   "mimetype": "text/x-python",
   "name": "python",
   "nbconvert_exporter": "python",
   "pygments_lexer": "ipython3",
   "version": "3.8.10"
  },
  "orig_nbformat": 4
 },
 "nbformat": 4,
 "nbformat_minor": 2
}
