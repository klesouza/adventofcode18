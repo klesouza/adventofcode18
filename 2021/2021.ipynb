{
 "cells": [
  {
   "cell_type": "code",
   "execution_count": 1,
   "metadata": {},
   "outputs": [],
   "source": [
    "def read_file(day, ex=1):\n",
    "    with open(f\"inputs/day{day}-{ex}.txt\", \"r\") as f:\n",
    "        return f.readlines()"
   ]
  },
  {
   "cell_type": "code",
   "execution_count": 2,
   "metadata": {},
   "outputs": [
    {
     "name": "stdout",
     "output_type": "stream",
     "text": [
      "1466\n"
     ]
    }
   ],
   "source": [
    "day=1\n",
    "ex=1\n",
    "\n",
    "last_number = None\n",
    "increases = 0\n",
    "for number in read_file(day, ex):\n",
    "    if last_number and int(number) > last_number:\n",
    "        increases += 1\n",
    "    last_number = int(number)\n",
    "print(increases)"
   ]
  },
  {
   "cell_type": "code",
   "execution_count": 6,
   "metadata": {},
   "outputs": [
    {
     "name": "stdout",
     "output_type": "stream",
     "text": [
      "1491\n"
     ]
    }
   ],
   "source": [
    "day=1\n",
    "ex=2\n",
    "\n",
    "window = [0, 0, 0]\n",
    "increases = 0\n",
    "for i, number in enumerate(read_file(day, 1)): # same input as 1\n",
    "    \n",
    "    if i >= 3 and int(number) > window[i % 3]:\n",
    "        increases += 1\n",
    "    window[i % 3] = int(number)\n",
    "print(increases)"
   ]
  },
  {
   "cell_type": "code",
   "execution_count": 23,
   "metadata": {},
   "outputs": [
    {
     "name": "stdout",
     "output_type": "stream",
     "text": [
      "1499229\n"
     ]
    }
   ],
   "source": [
    "day=2\n",
    "ex=1\n",
    "from operator import add, mul\n",
    "from functools import reduce, partial\n",
    "\n",
    "def parse_command(cmd: str):\n",
    "    axis, unit = cmd.split()\n",
    "    ax = {\n",
    "        'forward': [0, 1, ],\n",
    "        'up': [-1, 0], \n",
    "        'down': [1, 0]\n",
    "    }\n",
    "\n",
    "    return list(map(mul, ax[axis], [int(unit)]*2))\n",
    "\n",
    "pos = list(reduce( partial(map, add), map(parse_command, read_file(day, ex)), [0,0]))\n",
    "print(mul(*pos))\n"
   ]
  },
  {
   "cell_type": "code",
   "execution_count": 30,
   "metadata": {},
   "outputs": [
    {
     "name": "stdout",
     "output_type": "stream",
     "text": [
      "[0, 0, 0]\n",
      "[5, 5, 0]\n",
      "[0, 5, 0]\n",
      "[0, 0, 5]\n",
      "[0, 5, 5]\n",
      "[8, 8, 0]\n",
      "[0, 13, 5]\n",
      "[0, 0, -3]\n",
      "[0, 13, 2]\n",
      "[0, 0, 8]\n",
      "[0, 13, 10]\n",
      "[2, 2, 0]\n"
     ]
    },
    {
     "ename": "TypeError",
     "evalue": "mul expected 2 arguments, got 3",
     "output_type": "error",
     "traceback": [
      "\u001b[0;31m---------------------------------------------------------------------------\u001b[0m",
      "\u001b[0;31mTypeError\u001b[0m                                 Traceback (most recent call last)",
      "\u001b[0;32m/var/folders/8d/r8dnr_j92hx_fk1kbg3543y40000gn/T/ipykernel_14881/2433925066.py\u001b[0m in \u001b[0;36m<module>\u001b[0;34m\u001b[0m\n\u001b[1;32m     19\u001b[0m \u001b[0;34m\u001b[0m\u001b[0m\n\u001b[1;32m     20\u001b[0m \u001b[0mpos\u001b[0m \u001b[0;34m=\u001b[0m \u001b[0mlist\u001b[0m\u001b[0;34m(\u001b[0m\u001b[0mreduce\u001b[0m\u001b[0;34m(\u001b[0m\u001b[0mred\u001b[0m\u001b[0;34m,\u001b[0m \u001b[0mmap\u001b[0m\u001b[0;34m(\u001b[0m\u001b[0mparse_command_2\u001b[0m\u001b[0;34m,\u001b[0m \u001b[0mread_file\u001b[0m\u001b[0;34m(\u001b[0m\u001b[0mday\u001b[0m\u001b[0;34m,\u001b[0m \u001b[0;36m1\u001b[0m\u001b[0;34m)\u001b[0m\u001b[0;34m)\u001b[0m\u001b[0;34m,\u001b[0m \u001b[0;34m[\u001b[0m\u001b[0;36m0\u001b[0m\u001b[0;34m,\u001b[0m\u001b[0;36m0\u001b[0m\u001b[0;34m,\u001b[0m\u001b[0;36m0\u001b[0m\u001b[0;34m]\u001b[0m\u001b[0;34m)\u001b[0m\u001b[0;34m)\u001b[0m\u001b[0;34m\u001b[0m\u001b[0;34m\u001b[0m\u001b[0m\n\u001b[0;32m---> 21\u001b[0;31m \u001b[0mprint\u001b[0m\u001b[0;34m(\u001b[0m\u001b[0mmul\u001b[0m\u001b[0;34m(\u001b[0m\u001b[0;34m*\u001b[0m\u001b[0mpos\u001b[0m\u001b[0;34m)\u001b[0m\u001b[0;34m)\u001b[0m\u001b[0;34m\u001b[0m\u001b[0;34m\u001b[0m\u001b[0m\n\u001b[0m",
      "\u001b[0;31mTypeError\u001b[0m: mul expected 2 arguments, got 3"
     ]
    }
   ],
   "source": [
    "day=2\n",
    "ex=2\n",
    "\n",
    "def parse_command_2(cmd: str):\n",
    "    axis, unit = cmd.split()\n",
    "    un = int(unit)\n",
    "    ax = {\n",
    "        'forward': [1, 1, 0],\n",
    "        'up': [0, 0, -1], \n",
    "        'down': [0, 0, 1]\n",
    "    }\n",
    "\n",
    "    return list(map(mul, ax[axis], [int(unit)]*3))\n",
    "\n",
    "def red(a, b):\n",
    "    print(a)\n",
    "    print(b)\n",
    "    return [a[0]+b[0]*b[0], a[1]+b[1], a[2]+b[2]]\n",
    "\n",
    "pos = list(reduce(red, map(parse_command_2, read_file(day, 1)), [0,0,0]))\n",
    "print(mul(*pos))\n"
   ]
  },
  {
   "cell_type": "code",
   "execution_count": null,
   "metadata": {},
   "outputs": [],
   "source": []
  }
 ],
 "metadata": {
  "interpreter": {
   "hash": "7c1477b001b5ca96b4f289848a5cb54a92bc86e96dfe901970dd3607e197804f"
  },
  "kernelspec": {
   "display_name": "Python 3.8.10 64-bit ('3.8.10': pyenv)",
   "language": "python",
   "name": "python3"
  },
  "language_info": {
   "codemirror_mode": {
    "name": "ipython",
    "version": 3
   },
   "file_extension": ".py",
   "mimetype": "text/x-python",
   "name": "python",
   "nbconvert_exporter": "python",
   "pygments_lexer": "ipython3",
   "version": "3.8.10"
  },
  "orig_nbformat": 4
 },
 "nbformat": 4,
 "nbformat_minor": 2
}
