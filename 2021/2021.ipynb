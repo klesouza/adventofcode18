{
 "cells": [
  {
   "cell_type": "code",
   "execution_count": 23,
   "metadata": {},
   "outputs": [],
   "source": [
    "def read_file(day, ex=1):\n",
    "    with open(f\"inputs/day{day}-{ex}.txt\", \"r\") as f:\n",
    "        return f.readlines()"
   ]
  },
  {
   "cell_type": "code",
   "execution_count": 24,
   "metadata": {},
   "outputs": [
    {
     "name": "stdout",
     "output_type": "stream",
     "text": [
      "1466\n"
     ]
    }
   ],
   "source": [
    "day=1\n",
    "ex=1\n",
    "\n",
    "last_number = None\n",
    "increases = 0\n",
    "for number in read_file(day, ex):\n",
    "    if last_number and int(number) > last_number:\n",
    "        increases += 1\n",
    "    last_number = int(number)\n",
    "print(increases)"
   ]
  },
  {
   "cell_type": "code",
   "execution_count": 25,
   "metadata": {},
   "outputs": [
    {
     "name": "stdout",
     "output_type": "stream",
     "text": [
      "1491\n"
     ]
    }
   ],
   "source": [
    "day=1\n",
    "ex=2\n",
    "\n",
    "window = [0, 0, 0]\n",
    "increases = 0\n",
    "for i, number in enumerate(read_file(day, 1)): # same input as 1\n",
    "    \n",
    "    if i >= 3 and int(number) > window[i % 3]:\n",
    "        increases += 1\n",
    "    window[i % 3] = int(number)\n",
    "print(increases)"
   ]
  },
  {
   "cell_type": "code",
   "execution_count": 26,
   "metadata": {},
   "outputs": [
    {
     "name": "stdout",
     "output_type": "stream",
     "text": [
      "1499229\n"
     ]
    }
   ],
   "source": [
    "day=2\n",
    "ex=1\n",
    "from operator import add, mul\n",
    "from functools import reduce, partial\n",
    "\n",
    "def parse_command(cmd: str):\n",
    "    axis, unit = cmd.split()\n",
    "    ax = {\n",
    "        'forward': [0, 1, ],\n",
    "        'up': [-1, 0], \n",
    "        'down': [1, 0]\n",
    "    }\n",
    "\n",
    "    return list(map(mul, ax[axis], [int(unit)]*2))\n",
    "\n",
    "pos = list(reduce( partial(map, add), map(parse_command, read_file(day, ex)), [0,0]))\n",
    "print(mul(*pos))\n"
   ]
  },
  {
   "cell_type": "code",
   "execution_count": 27,
   "metadata": {},
   "outputs": [
    {
     "name": "stdout",
     "output_type": "stream",
     "text": [
      "1340836560\n"
     ]
    }
   ],
   "source": [
    "day=2\n",
    "ex=2\n",
    "\n",
    "def parse_command_2(cmd: str):\n",
    "    axis, unit = cmd.split()\n",
    "    un = int(unit)\n",
    "    ax = {\n",
    "        'forward': [0, 1, 0],\n",
    "        'up': [0, 0, -1], \n",
    "        'down': [0, 0, 1]\n",
    "    }\n",
    "\n",
    "    return list(map(mul, ax[axis], [int(unit)]*3))\n",
    "\n",
    "def red(a, b):\n",
    "    return [a[0]+a[2]*b[1], a[1]+b[1], a[2]+b[2]]\n",
    "\n",
    "pos = list(reduce(red, map(parse_command_2, read_file(day, 1)), [0,0,0]))\n",
    "print(pos[0]*pos[1])\n"
   ]
  },
  {
   "cell_type": "code",
   "execution_count": 28,
   "metadata": {},
   "outputs": [
    {
     "name": "stdout",
     "output_type": "stream",
     "text": [
      "Requirement already satisfied: bitarray in /Users/w1ukxd2/.venv/aoc/lib/python3.8/site-packages (2.3.4)\n",
      "\u001b[33mWARNING: You are using pip version 21.1.1; however, version 21.3.1 is available.\n",
      "You should consider upgrading via the '/Users/w1ukxd2/.venv/aoc/bin/python -m pip install --upgrade pip' command.\u001b[0m\n"
     ]
    }
   ],
   "source": [
    "!pip install bitarray"
   ]
  },
  {
   "cell_type": "code",
   "execution_count": 29,
   "metadata": {},
   "outputs": [
    {
     "name": "stdout",
     "output_type": "stream",
     "text": [
      "2967914\n"
     ]
    }
   ],
   "source": [
    "day=3\n",
    "ex=1\n",
    "\n",
    "from bitarray import bitarray, util\n",
    "count = 0\n",
    "sum_a = []\n",
    "for line in read_file(day, 1):\n",
    "    count += 1\n",
    "    line = line.replace('\\n', '')\n",
    "    if not sum_a:\n",
    "        n = len(line)\n",
    "        sum_a = [0]*n\n",
    "    sum_a = list(map(add, sum_a, map(int, line)))\n",
    "\n",
    "\n",
    "bits = list(map(lambda x: x > (count / 2), sum_a))\n",
    "gamma = util.ba2int(bitarray(bits))\n",
    "eps = util.ba2int(~bitarray(bits))\n",
    "\n",
    "print(gamma*eps)\n",
    "\n"
   ]
  },
  {
   "cell_type": "code",
   "execution_count": 30,
   "metadata": {},
   "outputs": [
    {
     "name": "stdout",
     "output_type": "stream",
     "text": [
      "7041258\n"
     ]
    }
   ],
   "source": [
    "day=3\n",
    "ex=2\n",
    "\n",
    "f_tree = {'0': [], '1': []}\n",
    "for line in read_file(day, 1):\n",
    "    f_tree[line[0]].append(line.replace('\\n', ''))\n",
    "\n",
    "\n",
    "def calculate_o2(arr, i, most):\n",
    "    tree = {'0': [], '1': []}\n",
    "    if len(arr) == 1:\n",
    "        return util.ba2int(bitarray(arr[0]))\n",
    "\n",
    "    for line in arr:\n",
    "        tree[line[i]].append(line.replace('\\n', ''))\n",
    "\n",
    "    sor = sorted(tree.values(), key=len)\n",
    "    return calculate_o2(sor[most], i+1, most)\n",
    "\n",
    "sor = sorted(f_tree.values(), key=len)\n",
    "o2 = calculate_o2(sor[-1], 1, -1)\n",
    "co2 = calculate_o2(sor[0], 1, 0)\n",
    "\n",
    "print(o2*co2)\n",
    "    "
   ]
  },
  {
   "cell_type": "code",
   "execution_count": 31,
   "metadata": {},
   "outputs": [
    {
     "name": "stdout",
     "output_type": "stream",
     "text": [
      "41503\n"
     ]
    }
   ],
   "source": [
    "day=4\n",
    "ex=1\n",
    "\n",
    "class Bingo:\n",
    "    def __init__(self) -> None:\n",
    "        self.rows = []\n",
    "        self.drawn = []\n",
    "\n",
    "    def __repr__(self) -> str:\n",
    "        return f\"\"\"\n",
    "        rows: {self.rows}\n",
    "        drawn: {self.drawn}\"\"\"\n",
    "\n",
    "    def draw(self, n):\n",
    "        if n in self.rows:\n",
    "            self.drawn.append(n)\n",
    "            for i in range(0, 25, 5):\n",
    "                # line\n",
    "                r = set(self.rows[i:(i+5)]).issubset(set(self.drawn))\n",
    "                if r:\n",
    "                    break\n",
    "            for i in range(5):\n",
    "                # columns\n",
    "                cols = set(map(self.rows.__getitem__, range(i, 25+i, 5)))\n",
    "                c = cols.issubset(set(self.drawn))\n",
    "                if c:\n",
    "                    break\n",
    "        \n",
    "            if r or c:\n",
    "                return sum(self.rows) - sum(self.drawn)\n",
    "\n",
    "def populate_bingos():\n",
    "    random_numbers = list()\n",
    "    bingo = None\n",
    "    bingos = []\n",
    "    for i, line in enumerate(read_file(day ,1)):\n",
    "        if i == 0:\n",
    "            ns = line.split(',')\n",
    "            random_numbers = list(map(int, ns))\n",
    "        elif line == '\\n':\n",
    "            if bingo:\n",
    "                bingos.append(bingo)\n",
    "            bingo = Bingo()\n",
    "            continue\n",
    "        else:\n",
    "            row = list(map(int, line.split()))\n",
    "            bingo.rows.extend(row)\n",
    "\n",
    "    if bingos[-1] != bingo:\n",
    "        bingos.append(bingo)\n",
    "    return random_numbers, bingos\n",
    "    \n",
    "\n",
    "def find_winners():\n",
    "    random_numbers, bingos = populate_bingos()\n",
    "    for n in random_numbers:\n",
    "        i = 0\n",
    "        while i < len(bingos):\n",
    "            b = bingos[i]\n",
    "            complete = b.draw(n)\n",
    "            if complete:\n",
    "                yield complete*n\n",
    "                del bingos[i]\n",
    "            else:\n",
    "                i +=1\n",
    "\n",
    "print(next(find_winners())) # 41503\n",
    "                "
   ]
  },
  {
   "cell_type": "code",
   "execution_count": 32,
   "metadata": {},
   "outputs": [
    {
     "name": "stdout",
     "output_type": "stream",
     "text": [
      "3178\n"
     ]
    }
   ],
   "source": [
    "day=4\n",
    "ex=2\n",
    "\n",
    "c = list(find_winners())\n",
    "print(c[-1])\n",
    "\n"
   ]
  },
  {
   "cell_type": "code",
   "execution_count": 33,
   "metadata": {},
   "outputs": [
    {
     "name": "stdout",
     "output_type": "stream",
     "text": [
      "8622\n"
     ]
    }
   ],
   "source": [
    "day=5\n",
    "ex=1\n",
    "import math\n",
    "\n",
    "\n",
    "def parse_coord(c: str):\n",
    "    return tuple(map(int, c.split(',')))\n",
    "def parse_line_5(line: str):\n",
    "    xy1, _, xy2 = line.split()\n",
    "    return parse_coord(xy1), parse_coord(xy2)\n",
    "\n",
    "sign = lambda x: int(math.copysign(1, x))\n",
    "def populate_points(with_diag=False):\n",
    "    for line in read_file(day, 1):\n",
    "        xy1, xy2 = parse_line_5(line)\n",
    "        diff_x = xy2[0] - xy1[0]\n",
    "        dir_x = sign(diff_x)\n",
    "        diff_y = xy2[1] - xy1[1]\n",
    "        dir_y = sign(diff_y)\n",
    "        if diff_x != 0 and diff_y != 0:\n",
    "            if not with_diag:\n",
    "                continue\n",
    "            m = int(diff_y / diff_x)\n",
    "            for i in range(xy1[0], xy2[0]+dir_x, int(dir_x)):\n",
    "                yield (i, m*(i - xy1[0]) + xy1[1])\n",
    "        elif diff_x != 0:\n",
    "            for i in range(xy1[0], xy2[0]+dir_x, int(dir_x)):\n",
    "                p = (i, xy1[1])\n",
    "                yield p\n",
    "        elif diff_y != 0:\n",
    "            for i in range(xy1[1], xy2[1]+dir_y, int(dir_y)):\n",
    "                p = (xy1[0], i)\n",
    "                yield p\n",
    "\n",
    "def count_overlaps(wiht_diag=False):\n",
    "    points = {}\n",
    "    two = 0\n",
    "    for p in populate_points(wiht_diag):\n",
    "        points[p] = points.get(p, 0) + 1\n",
    "        if points[p] == 2:\n",
    "            two += 1\n",
    "    return two\n",
    "\n",
    "\n",
    "# print(points)\n",
    "print(count_overlaps())\n",
    "\n"
   ]
  },
  {
   "cell_type": "code",
   "execution_count": 34,
   "metadata": {},
   "outputs": [
    {
     "name": "stdout",
     "output_type": "stream",
     "text": [
      "22037\n"
     ]
    }
   ],
   "source": [
    "day=5\n",
    "ex=2\n",
    "\n",
    "print(count_overlaps(True))\n"
   ]
  },
  {
   "cell_type": "code",
   "execution_count": 50,
   "metadata": {},
   "outputs": [
    {
     "name": "stdout",
     "output_type": "stream",
     "text": [
      "388739\n"
     ]
    }
   ],
   "source": [
    "day=6\n",
    "ex=1\n",
    "\n",
    "def calculate(days):\n",
    "    initial = list(map(int, read_file(day, 1)[0].split(',')))\n",
    "    individuals = [0]*9\n",
    "    for i in initial:\n",
    "        individuals[i] += 1\n",
    "\n",
    "    for i in range(days):\n",
    "        zeros = individuals[0]\n",
    "        individuals = individuals[1:] + [0]\n",
    "        individuals[8] = zeros\n",
    "        individuals[6] += zeros\n",
    "\n",
    "    print(sum(individuals))\n",
    "\n",
    "calculate(80)\n"
   ]
  },
  {
   "cell_type": "code",
   "execution_count": 51,
   "metadata": {},
   "outputs": [
    {
     "name": "stdout",
     "output_type": "stream",
     "text": [
      "1741362314973\n"
     ]
    }
   ],
   "source": [
    "day=6\n",
    "ex=2\n",
    "\n",
    "calculate(256)"
   ]
  }
 ],
 "metadata": {
  "interpreter": {
   "hash": "7c1477b001b5ca96b4f289848a5cb54a92bc86e96dfe901970dd3607e197804f"
  },
  "kernelspec": {
   "display_name": "Python 3.8.10 64-bit ('3.8.10': pyenv)",
   "language": "python",
   "name": "python3"
  },
  "language_info": {
   "codemirror_mode": {
    "name": "ipython",
    "version": 3
   },
   "file_extension": ".py",
   "mimetype": "text/x-python",
   "name": "python",
   "nbconvert_exporter": "python",
   "pygments_lexer": "ipython3",
   "version": "3.8.10"
  },
  "orig_nbformat": 4
 },
 "nbformat": 4,
 "nbformat_minor": 2
}
